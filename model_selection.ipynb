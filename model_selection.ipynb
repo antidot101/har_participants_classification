{
 "cells": [
  {
   "cell_type": "code",
   "execution_count": 1,
   "metadata": {},
   "outputs": [],
   "source": [
    "from model_selection import *"
   ]
  },
  {
   "cell_type": "code",
   "execution_count": 2,
   "metadata": {},
   "outputs": [
    {
     "name": "stdout",
     "output_type": "stream",
     "text": [
      "............... Datasets loaded.\n",
      "............... Resampling completed.\n"
     ]
    }
   ],
   "source": [
    "df1, df2 = load_data()\n",
    "df1, df2 = resample_data(df1, df2, t='5S')\n",
    "x_train, x_test, y_train, y_test = get_splitted_data(df1, df2)\n",
    "x_train_std, x_test_std = get_scaled_data(x_train, x_test)"
   ]
  },
  {
   "cell_type": "code",
   "execution_count": 3,
   "metadata": {},
   "outputs": [
    {
     "data": {
      "text/plain": [
       "((372750, 3), (159750, 3), (372750,), (159750,))"
      ]
     },
     "execution_count": 3,
     "metadata": {},
     "output_type": "execute_result"
    }
   ],
   "source": [
    "x_train.shape, x_test.shape, y_train.shape, y_test.shape"
   ]
  },
  {
   "cell_type": "code",
   "execution_count": 8,
   "metadata": {},
   "outputs": [
    {
     "name": "stdout",
     "output_type": "stream",
     "text": [
      "Time:  0:00:05.946340\n",
      "Best params:  {'C': 1, 'penalty': 'l2'}\n",
      "Best score: 0.585\n",
      "-------------- Classification report -------------\n",
      "              precision    recall  f1-score   support\n",
      "\n",
      "           0       0.58      0.54      0.56     15660\n",
      "           1       0.58      0.62      0.60     16290\n",
      "\n",
      "    accuracy                           0.58     31950\n",
      "   macro avg       0.58      0.58      0.58     31950\n",
      "weighted avg       0.58      0.58      0.58     31950\n",
      "\n",
      "---------------- Confusion matrix ----------------\n",
      "[[ 8391  7269]\n",
      " [ 6109 10181]]\n",
      "----------------\n",
      " Accuracy test data: 0.581\n"
     ]
    }
   ],
   "source": [
    "get_log_regr_best(x_train_std, y_train, x_test_std, y_test)"
   ]
  },
  {
   "cell_type": "code",
   "execution_count": 2,
   "metadata": {},
   "outputs": [
    {
     "name": "stdout",
     "output_type": "stream",
     "text": [
      "............... Datasets loaded.\n",
      "............... Resampling completed.\n",
      "------------------------------------\n",
      "Time:  1:00:15.506155\n",
      "Best params:  {'C': 1000, 'kernel': 'rbf'}\n",
      "Best score: 0.761\n",
      "-------------- Classification report -------------\n",
      "              precision    recall  f1-score   support\n",
      "\n",
      "           0       0.78      0.72      0.75      7870\n",
      "           1       0.75      0.80      0.77      8105\n",
      "\n",
      "    accuracy                           0.76     15975\n",
      "   macro avg       0.76      0.76      0.76     15975\n",
      "weighted avg       0.76      0.76      0.76     15975\n",
      "\n",
      "---------------- Confusion matrix ----------------\n",
      "[[5640 2230]\n",
      " [1589 6516]]\n",
      "----------------\n",
      "\n",
      "Accuracy test data: 0.761\n"
     ]
    }
   ],
   "source": [
    "df1, df2 = load_data()\n",
    "df1, df2 = resample_data(df1, df2, t='10S')\n",
    "x_train_svm, x_test_svm, y_train_svm, y_test_svm = get_splitted_data(df1, df2)\n",
    "x_train_svm, x_test_svm = get_scaled_data(x_train_svm, x_test_svm)\n",
    "print('------------------------------------')\n",
    "get_svm_best(x_train_svm, y_train_svm, x_test_svm, y_test_svm)"
   ]
  },
  {
   "cell_type": "code",
   "execution_count": 5,
   "metadata": {},
   "outputs": [
    {
     "name": "stdout",
     "output_type": "stream",
     "text": [
      "Time:  0:01:37.160557\n",
      "Best params:  {'max_depth': 15, 'min_samples_split': 2}\n",
      "Best score: 0.828\n",
      "-------------- Classification report -------------\n",
      "              precision    recall  f1-score   support\n",
      "\n",
      "           0       0.84      0.80      0.82     78304\n",
      "           1       0.82      0.85      0.84     81446\n",
      "\n",
      "    accuracy                           0.83    159750\n",
      "   macro avg       0.83      0.83      0.83    159750\n",
      "weighted avg       0.83      0.83      0.83    159750\n",
      "\n",
      "---------------- Confusion matrix ----------------\n",
      "[[62898 15406]\n",
      " [11812 69634]]\n",
      "----------------\n",
      " Accuracy test data: 0.830\n"
     ]
    }
   ],
   "source": [
    "get_tree_best(x_train, y_train, x_test, y_test)"
   ]
  },
  {
   "cell_type": "code",
   "execution_count": 10,
   "metadata": {},
   "outputs": [
    {
     "name": "stdout",
     "output_type": "stream",
     "text": [
      "Time:  0:27:13.639657\n",
      "Best params:  {'max_depth': 15, 'n_estimators': 100}\n",
      "Best score: 0.841\n",
      "-------------- Classification report -------------\n",
      "              precision    recall  f1-score   support\n",
      "\n",
      "           0       0.86      0.81      0.83     15660\n",
      "           1       0.83      0.87      0.85     16290\n",
      "\n",
      "    accuracy                           0.84     31950\n",
      "   macro avg       0.84      0.84      0.84     31950\n",
      "weighted avg       0.84      0.84      0.84     31950\n",
      "\n",
      "---------------- Confusion matrix ----------------\n",
      "[[12691  2969]\n",
      " [ 2049 14241]]\n",
      "----------------\n",
      " Accuracy test data: 0.843\n"
     ]
    }
   ],
   "source": [
    "get_forrest_best(x_train, y_train, x_test, y_test)"
   ]
  },
  {
   "cell_type": "code",
   "execution_count": 11,
   "metadata": {},
   "outputs": [
    {
     "name": "stdout",
     "output_type": "stream",
     "text": [
      "n_estimators: 200.000000: accuracy = 0.78063045 | time elapsed:  0:04:59.716121\n",
      "n_estimators: 300.000000: accuracy = 0.79403085 | time elapsed:  0:07:27.227580\n",
      "n_estimators: 400.000000: accuracy = 0.79973172 | time elapsed:  0:09:23.771242\n"
     ]
    }
   ],
   "source": [
    "get_gb_best(x_train, y_train, x_test, y_test)"
   ]
  },
  {
   "cell_type": "code",
   "execution_count": 3,
   "metadata": {},
   "outputs": [
    {
     "name": "stdout",
     "output_type": "stream",
     "text": [
      "n_estimators: 100.000000: accuracy = 0.75656606 | time elapsed:  0:01:15.468095\n",
      "n_estimators: 300.000000: accuracy = 0.79223340 | time elapsed:  0:04:59.733102\n",
      "n_estimators: 500.000000: accuracy = 0.80355466 | time elapsed:  0:13:46.589515\n",
      "\n",
      "--------------- Classification report -------------\n",
      "              precision    recall  f1-score   support\n",
      "\n",
      "           0       0.81      0.78      0.80     15556\n",
      "           1       0.80      0.83      0.81     16394\n",
      "\n",
      "    accuracy                           0.81     31950\n",
      "   macro avg       0.81      0.81      0.81     31950\n",
      "weighted avg       0.81      0.81      0.81     31950\n",
      "\n",
      "----------------- Confusion matrix -----------------\n",
      "[[12199  3357]\n",
      " [ 2817 13577]]\n",
      "----------------------------------------------------\n",
      "\n",
      "Accuracy test data: 0.807\n"
     ]
    }
   ],
   "source": [
    "get_gb_best(x_train, y_train, x_test, y_test)"
   ]
  },
  {
   "cell_type": "markdown",
   "metadata": {},
   "source": [
    "Из ансамбевых классификаторов наиболее приемлемый результат продемонстрировала модель случайного леса на 100 деревьях с максимальной глубиной дерева 15 и показателем accuracy 0.843. Точность линейных классификаторов оказалась неудовлетворительной."
   ]
  },
  {
   "cell_type": "code",
   "execution_count": null,
   "metadata": {},
   "outputs": [],
   "source": []
  }
 ],
 "metadata": {
  "kernelspec": {
   "display_name": "Python 3",
   "language": "python",
   "name": "python3"
  },
  "language_info": {
   "codemirror_mode": {
    "name": "ipython",
    "version": 3
   },
   "file_extension": ".py",
   "mimetype": "text/x-python",
   "name": "python",
   "nbconvert_exporter": "python",
   "pygments_lexer": "ipython3",
   "version": "3.7.3"
  }
 },
 "nbformat": 4,
 "nbformat_minor": 4
}
